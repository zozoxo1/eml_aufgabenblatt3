{
  "cells": [
    {
      "cell_type": "markdown",
      "id": "ce8281b4",
      "metadata": {
        "id": "ce8281b4"
      },
      "source": [
        "<figure>\n",
        "  <IMG SRC=\"https://upload.wikimedia.org/wikipedia/commons/thumb/d/d5/Fachhochschule_Südwestfalen_20xx_logo.svg/320px-Fachhochschule_Südwestfalen_20xx_logo.svg.png\" WIDTH=250 ALIGN=\"right\">\n",
        "</figure>\n",
        "\n",
        "# Einführung Machine Learning\n",
        "### Sommersemester 2022\n",
        "Prof. Dr. Heiner Giefers"
      ]
    },
    {
      "cell_type": "markdown",
      "id": "51eb3fb3",
      "metadata": {
        "id": "51eb3fb3"
      },
      "source": [
        "## Aufgabe: Matrizenmultiplikation in Python"
      ]
    },
    {
      "cell_type": "markdown",
      "id": "1815c7a7",
      "metadata": {
        "id": "1815c7a7"
      },
      "source": [
        "Wir importieren NumPy und erzeugen zwei Matrizen der Größe $N\\times{}N$ mit gleichverteilten Zufallszahlen aus dem Bereich $[0,1)$."
      ]
    },
    {
      "cell_type": "code",
      "execution_count": null,
      "id": "654de8fe",
      "metadata": {
        "id": "654de8fe"
      },
      "outputs": [],
      "source": [
        "import numpy as np\n",
        "\n",
        "N = 100\n",
        "A = np.random.rand(N, N)\n",
        "B = np.random.rand(N, N)"
      ]
    },
    {
      "cell_type": "markdown",
      "id": "19e43daf",
      "metadata": {
        "id": "19e43daf"
      },
      "source": [
        "Wir wollen nun die beiden NumPy Matrizen miteinander multiplizieren. Dazu können wir den Matrizenmultiplikations-Operator `@` von NumPy verwenden.\n",
        "\n",
        "Um die Laufzeit dieser Operation zu messen, verwenden wir eine sogenannte *IPython Magic Function* namens `timeit`.\n",
        "*Magic Functions* werden mit einem vorangestellten `%` aufgerufen:"
      ]
    },
    {
      "cell_type": "code",
      "execution_count": null,
      "id": "2aac9440",
      "metadata": {
        "id": "2aac9440"
      },
      "outputs": [],
      "source": [
        "%timeit C=A@B"
      ]
    },
    {
      "cell_type": "markdown",
      "id": "12e0e0cb",
      "metadata": {
        "id": "12e0e0cb"
      },
      "source": [
        "Nun wollen wir die gleiche Operation in Python, also ohne NumPy implementieren.\n",
        "Dazu wandeln wir zunächst die *ndarrays* `A` und `B` in *normale* Python Listen-Objekte um:"
      ]
    },
    {
      "cell_type": "code",
      "execution_count": null,
      "id": "f2ade41c",
      "metadata": {
        "id": "f2ade41c"
      },
      "outputs": [],
      "source": [
        "A_list = A.tolist()\n",
        "B_list = B.tolist()\n",
        "type(A_list), type(B_list)"
      ]
    },
    {
      "cell_type": "markdown",
      "id": "71c89b6b",
      "metadata": {
        "id": "71c89b6b"
      },
      "source": [
        "Nun sind Sie an der Reihe. Schreiben Sie eine Funktion `matmul` mit der Sie eine Matrizenmultiplikation zweier Matrizen `A` und `B` durchführen. Gehen Sie davon aus, dass `A` und `B` als zweidimensionale Listen (*Listen von Listen*) übergeben werden. Die Funktion soll eine neue Matrix `C` zurückliefern.\n",
        "\n",
        "![](https://github.com/fh-swf-hgi/intro-ml/raw/main/Praktika/A03/matmult.png)"
      ]
    },
    {
      "cell_type": "code",
      "execution_count": 17,
      "id": "f1918dd1",
      "metadata": {
        "deletable": false,
        "nbgrader": {
          "grade": false,
          "grade_id": "cell-80d69cb24a5a5248",
          "locked": false,
          "schema_version": 3,
          "solution": true,
          "task": false
        },
        "id": "f1918dd1"
      },
      "outputs": [],
      "source": [
        "def matmul(A,B):\n",
        "    rowA = len(A)\n",
        "    colA = len(A[0])\n",
        "    rowB = len(B)\n",
        "    colB = len(B[0])\n",
        "\n",
        "    row = rowA\n",
        "    col = colB\n",
        "    C = [[0]*col for i in range(row)]\n",
        "    for rows in range(0, row):\n",
        "      for cols in range(0, col):\n",
        "        res = 0\n",
        "        for i in range(0, colA):\n",
        "          res += A[rows][i] * B[i][cols]\n",
        "          C[rows][cols] = res\n",
        "\n",
        "    return C\n"
      ]
    },
    {
      "cell_type": "code",
      "execution_count": 18,
      "id": "6ed0ba0f",
      "metadata": {
        "deletable": false,
        "editable": false,
        "nbgrader": {
          "grade": true,
          "grade_id": "cell-fbf61c5254ede6bd",
          "locked": true,
          "points": 0,
          "schema_version": 3,
          "solution": false,
          "task": false
        },
        "id": "6ed0ba0f"
      },
      "outputs": [],
      "source": [
        "A_ = [[1,2,3,4],[5,6,7,8],[9,10,11,12]]\n",
        "B_ = [[1,2,3],[4,5,6],[7,8,9],[10,11,12]]\n",
        "assert matmul(A_,B_) == [[70, 80, 90], [158, 184, 210], [246, 288, 330]]"
      ]
    },
    {
      "cell_type": "markdown",
      "id": "e6a6ef63",
      "metadata": {
        "id": "e6a6ef63"
      },
      "source": [
        "Testen Sie nun die Laufzeit der selbst implementierten Matrizenmultiplikation."
      ]
    },
    {
      "cell_type": "code",
      "execution_count": 23,
      "id": "ea96dda2",
      "metadata": {
        "deletable": false,
        "nbgrader": {
          "grade": false,
          "grade_id": "cell-ef0d2a6d29e95723",
          "locked": false,
          "schema_version": 3,
          "solution": true,
          "task": false
        },
        "colab": {
          "base_uri": "https://localhost:8080/"
        },
        "id": "ea96dda2",
        "outputId": "dc1137fc-3b0c-4c1c-eb8e-e1e2e22728fd"
      },
      "outputs": [
        {
          "output_type": "stream",
          "name": "stdout",
          "text": [
            "100000 loops, best of 5: 11.8 µs per loop\n"
          ]
        }
      ],
      "source": [
        "%timeit matmul(A_, B_)"
      ]
    },
    {
      "cell_type": "code",
      "execution_count": 24,
      "id": "a2c3a9bd",
      "metadata": {
        "deletable": false,
        "editable": false,
        "nbgrader": {
          "grade": true,
          "grade_id": "cell-50aa90906e96fa85",
          "locked": true,
          "points": 0,
          "schema_version": 3,
          "solution": false,
          "task": false
        },
        "id": "a2c3a9bd"
      },
      "outputs": [],
      "source": [
        "assert 'timeit' in _i"
      ]
    },
    {
      "cell_type": "markdown",
      "id": "d16c8804",
      "metadata": {
        "id": "d16c8804"
      },
      "source": [
        "Wiederholen Sie die Messungen für verschiedene Größen von N.\n",
        "Sammeln Sie die Luafzeitergebnisse in zwei Listen `run_numpy` und `run_py`.\n",
        "\n",
        "Um ein Ergebnis von der `timeit` Funktion zu bekommen, rufen Sie die Funktion folgendermaßen auf:"
      ]
    },
    {
      "cell_type": "code",
      "execution_count": null,
      "id": "41b6a219",
      "metadata": {
        "id": "41b6a219"
      },
      "outputs": [],
      "source": [
        "t = %timeit -o C=A@B\n",
        "print(f\"Mittlere Laufzeit = {t.average}s\")"
      ]
    },
    {
      "cell_type": "code",
      "execution_count": 26,
      "id": "562102c6",
      "metadata": {
        "deletable": false,
        "nbgrader": {
          "grade": false,
          "grade_id": "cell-7de9c51f01cd0f8c",
          "locked": false,
          "schema_version": 3,
          "solution": true,
          "task": false
        },
        "colab": {
          "base_uri": "https://localhost:8080/",
          "height": 415
        },
        "id": "562102c6",
        "outputId": "0a13e05e-5c97-4d5f-a43b-17c93de36dc6"
      },
      "outputs": [
        {
          "output_type": "error",
          "ename": "NameError",
          "evalue": "ignored",
          "traceback": [
            "\u001b[0;31m---------------------------------------------------------------------------\u001b[0m",
            "\u001b[0;31mNameError\u001b[0m                                 Traceback (most recent call last)",
            "\u001b[0;32m<ipython-input-26-93555a185c55>\u001b[0m in \u001b[0;36m<module>\u001b[0;34m()\u001b[0m\n\u001b[1;32m      5\u001b[0m \u001b[0mN_values\u001b[0m \u001b[0;34m=\u001b[0m \u001b[0;34m[\u001b[0m\u001b[0;36m10\u001b[0m\u001b[0;34m,\u001b[0m \u001b[0;36m20\u001b[0m\u001b[0;34m,\u001b[0m \u001b[0;36m30\u001b[0m\u001b[0;34m,\u001b[0m \u001b[0;36m40\u001b[0m\u001b[0;34m,\u001b[0m \u001b[0;36m50\u001b[0m\u001b[0;34m,\u001b[0m \u001b[0;36m100\u001b[0m\u001b[0;34m]\u001b[0m\u001b[0;34m\u001b[0m\u001b[0;34m\u001b[0m\u001b[0m\n\u001b[1;32m      6\u001b[0m \u001b[0;34m\u001b[0m\u001b[0m\n\u001b[0;32m----> 7\u001b[0;31m \u001b[0mt\u001b[0m \u001b[0;34m=\u001b[0m \u001b[0mget_ipython\u001b[0m\u001b[0;34m(\u001b[0m\u001b[0;34m)\u001b[0m\u001b[0;34m.\u001b[0m\u001b[0mmagic\u001b[0m\u001b[0;34m(\u001b[0m\u001b[0;34m'timeit -o C=A@B'\u001b[0m\u001b[0;34m)\u001b[0m\u001b[0;34m\u001b[0m\u001b[0;34m\u001b[0m\u001b[0m\n\u001b[0m",
            "\u001b[0;32m/usr/local/lib/python3.7/dist-packages/IPython/core/interactiveshell.py\u001b[0m in \u001b[0;36mmagic\u001b[0;34m(self, arg_s)\u001b[0m\n\u001b[1;32m   2158\u001b[0m         \u001b[0mmagic_name\u001b[0m\u001b[0;34m,\u001b[0m \u001b[0m_\u001b[0m\u001b[0;34m,\u001b[0m \u001b[0mmagic_arg_s\u001b[0m \u001b[0;34m=\u001b[0m \u001b[0marg_s\u001b[0m\u001b[0;34m.\u001b[0m\u001b[0mpartition\u001b[0m\u001b[0;34m(\u001b[0m\u001b[0;34m' '\u001b[0m\u001b[0;34m)\u001b[0m\u001b[0;34m\u001b[0m\u001b[0;34m\u001b[0m\u001b[0m\n\u001b[1;32m   2159\u001b[0m         \u001b[0mmagic_name\u001b[0m \u001b[0;34m=\u001b[0m \u001b[0mmagic_name\u001b[0m\u001b[0;34m.\u001b[0m\u001b[0mlstrip\u001b[0m\u001b[0;34m(\u001b[0m\u001b[0mprefilter\u001b[0m\u001b[0;34m.\u001b[0m\u001b[0mESC_MAGIC\u001b[0m\u001b[0;34m)\u001b[0m\u001b[0;34m\u001b[0m\u001b[0;34m\u001b[0m\u001b[0m\n\u001b[0;32m-> 2160\u001b[0;31m         \u001b[0;32mreturn\u001b[0m \u001b[0mself\u001b[0m\u001b[0;34m.\u001b[0m\u001b[0mrun_line_magic\u001b[0m\u001b[0;34m(\u001b[0m\u001b[0mmagic_name\u001b[0m\u001b[0;34m,\u001b[0m \u001b[0mmagic_arg_s\u001b[0m\u001b[0;34m)\u001b[0m\u001b[0;34m\u001b[0m\u001b[0;34m\u001b[0m\u001b[0m\n\u001b[0m\u001b[1;32m   2161\u001b[0m \u001b[0;34m\u001b[0m\u001b[0m\n\u001b[1;32m   2162\u001b[0m     \u001b[0;31m#-------------------------------------------------------------------------\u001b[0m\u001b[0;34m\u001b[0m\u001b[0;34m\u001b[0m\u001b[0;34m\u001b[0m\u001b[0m\n",
            "\u001b[0;32m/usr/local/lib/python3.7/dist-packages/IPython/core/interactiveshell.py\u001b[0m in \u001b[0;36mrun_line_magic\u001b[0;34m(self, magic_name, line)\u001b[0m\n\u001b[1;32m   2079\u001b[0m                 \u001b[0mkwargs\u001b[0m\u001b[0;34m[\u001b[0m\u001b[0;34m'local_ns'\u001b[0m\u001b[0;34m]\u001b[0m \u001b[0;34m=\u001b[0m \u001b[0msys\u001b[0m\u001b[0;34m.\u001b[0m\u001b[0m_getframe\u001b[0m\u001b[0;34m(\u001b[0m\u001b[0mstack_depth\u001b[0m\u001b[0;34m)\u001b[0m\u001b[0;34m.\u001b[0m\u001b[0mf_locals\u001b[0m\u001b[0;34m\u001b[0m\u001b[0;34m\u001b[0m\u001b[0m\n\u001b[1;32m   2080\u001b[0m             \u001b[0;32mwith\u001b[0m \u001b[0mself\u001b[0m\u001b[0;34m.\u001b[0m\u001b[0mbuiltin_trap\u001b[0m\u001b[0;34m:\u001b[0m\u001b[0;34m\u001b[0m\u001b[0;34m\u001b[0m\u001b[0m\n\u001b[0;32m-> 2081\u001b[0;31m                 \u001b[0mresult\u001b[0m \u001b[0;34m=\u001b[0m \u001b[0mfn\u001b[0m\u001b[0;34m(\u001b[0m\u001b[0;34m*\u001b[0m\u001b[0margs\u001b[0m\u001b[0;34m,\u001b[0m\u001b[0;34m**\u001b[0m\u001b[0mkwargs\u001b[0m\u001b[0;34m)\u001b[0m\u001b[0;34m\u001b[0m\u001b[0;34m\u001b[0m\u001b[0m\n\u001b[0m\u001b[1;32m   2082\u001b[0m             \u001b[0;32mreturn\u001b[0m \u001b[0mresult\u001b[0m\u001b[0;34m\u001b[0m\u001b[0;34m\u001b[0m\u001b[0m\n\u001b[1;32m   2083\u001b[0m \u001b[0;34m\u001b[0m\u001b[0m\n",
            "\u001b[0;32m<decorator-gen-52>\u001b[0m in \u001b[0;36mtimeit\u001b[0;34m(self, line, cell)\u001b[0m\n",
            "\u001b[0;32m/usr/local/lib/python3.7/dist-packages/IPython/core/magic.py\u001b[0m in \u001b[0;36m<lambda>\u001b[0;34m(f, *a, **k)\u001b[0m\n\u001b[1;32m    186\u001b[0m     \u001b[0;31m# but it's overkill for just that one bit of state.\u001b[0m\u001b[0;34m\u001b[0m\u001b[0;34m\u001b[0m\u001b[0;34m\u001b[0m\u001b[0m\n\u001b[1;32m    187\u001b[0m     \u001b[0;32mdef\u001b[0m \u001b[0mmagic_deco\u001b[0m\u001b[0;34m(\u001b[0m\u001b[0marg\u001b[0m\u001b[0;34m)\u001b[0m\u001b[0;34m:\u001b[0m\u001b[0;34m\u001b[0m\u001b[0;34m\u001b[0m\u001b[0m\n\u001b[0;32m--> 188\u001b[0;31m         \u001b[0mcall\u001b[0m \u001b[0;34m=\u001b[0m \u001b[0;32mlambda\u001b[0m \u001b[0mf\u001b[0m\u001b[0;34m,\u001b[0m \u001b[0;34m*\u001b[0m\u001b[0ma\u001b[0m\u001b[0;34m,\u001b[0m \u001b[0;34m**\u001b[0m\u001b[0mk\u001b[0m\u001b[0;34m:\u001b[0m \u001b[0mf\u001b[0m\u001b[0;34m(\u001b[0m\u001b[0;34m*\u001b[0m\u001b[0ma\u001b[0m\u001b[0;34m,\u001b[0m \u001b[0;34m**\u001b[0m\u001b[0mk\u001b[0m\u001b[0;34m)\u001b[0m\u001b[0;34m\u001b[0m\u001b[0;34m\u001b[0m\u001b[0m\n\u001b[0m\u001b[1;32m    189\u001b[0m \u001b[0;34m\u001b[0m\u001b[0m\n\u001b[1;32m    190\u001b[0m         \u001b[0;32mif\u001b[0m \u001b[0mcallable\u001b[0m\u001b[0;34m(\u001b[0m\u001b[0marg\u001b[0m\u001b[0;34m)\u001b[0m\u001b[0;34m:\u001b[0m\u001b[0;34m\u001b[0m\u001b[0;34m\u001b[0m\u001b[0m\n",
            "\u001b[0;32m/usr/local/lib/python3.7/dist-packages/IPython/core/magics/execution.py\u001b[0m in \u001b[0;36mtimeit\u001b[0;34m(self, line, cell)\u001b[0m\n\u001b[1;32m   1055\u001b[0m             \u001b[0mnumber\u001b[0m \u001b[0;34m=\u001b[0m \u001b[0;36m1\u001b[0m\u001b[0;34m\u001b[0m\u001b[0;34m\u001b[0m\u001b[0m\n\u001b[1;32m   1056\u001b[0m             \u001b[0;32mfor\u001b[0m \u001b[0m_\u001b[0m \u001b[0;32min\u001b[0m \u001b[0mrange\u001b[0m\u001b[0;34m(\u001b[0m\u001b[0;36m1\u001b[0m\u001b[0;34m,\u001b[0m \u001b[0;36m10\u001b[0m\u001b[0;34m)\u001b[0m\u001b[0;34m:\u001b[0m\u001b[0;34m\u001b[0m\u001b[0;34m\u001b[0m\u001b[0m\n\u001b[0;32m-> 1057\u001b[0;31m                 \u001b[0mtime_number\u001b[0m \u001b[0;34m=\u001b[0m \u001b[0mtimer\u001b[0m\u001b[0;34m.\u001b[0m\u001b[0mtimeit\u001b[0m\u001b[0;34m(\u001b[0m\u001b[0mnumber\u001b[0m\u001b[0;34m)\u001b[0m\u001b[0;34m\u001b[0m\u001b[0;34m\u001b[0m\u001b[0m\n\u001b[0m\u001b[1;32m   1058\u001b[0m                 \u001b[0mworst_tuning\u001b[0m \u001b[0;34m=\u001b[0m \u001b[0mmax\u001b[0m\u001b[0;34m(\u001b[0m\u001b[0mworst_tuning\u001b[0m\u001b[0;34m,\u001b[0m \u001b[0mtime_number\u001b[0m \u001b[0;34m/\u001b[0m \u001b[0mnumber\u001b[0m\u001b[0;34m)\u001b[0m\u001b[0;34m\u001b[0m\u001b[0;34m\u001b[0m\u001b[0m\n\u001b[1;32m   1059\u001b[0m                 \u001b[0;32mif\u001b[0m \u001b[0mtime_number\u001b[0m \u001b[0;34m>=\u001b[0m \u001b[0;36m0.2\u001b[0m\u001b[0;34m:\u001b[0m\u001b[0;34m\u001b[0m\u001b[0;34m\u001b[0m\u001b[0m\n",
            "\u001b[0;32m/usr/local/lib/python3.7/dist-packages/IPython/core/magics/execution.py\u001b[0m in \u001b[0;36mtimeit\u001b[0;34m(self, number)\u001b[0m\n\u001b[1;32m    137\u001b[0m         \u001b[0mgc\u001b[0m\u001b[0;34m.\u001b[0m\u001b[0mdisable\u001b[0m\u001b[0;34m(\u001b[0m\u001b[0;34m)\u001b[0m\u001b[0;34m\u001b[0m\u001b[0;34m\u001b[0m\u001b[0m\n\u001b[1;32m    138\u001b[0m         \u001b[0;32mtry\u001b[0m\u001b[0;34m:\u001b[0m\u001b[0;34m\u001b[0m\u001b[0;34m\u001b[0m\u001b[0m\n\u001b[0;32m--> 139\u001b[0;31m             \u001b[0mtiming\u001b[0m \u001b[0;34m=\u001b[0m \u001b[0mself\u001b[0m\u001b[0;34m.\u001b[0m\u001b[0minner\u001b[0m\u001b[0;34m(\u001b[0m\u001b[0mit\u001b[0m\u001b[0;34m,\u001b[0m \u001b[0mself\u001b[0m\u001b[0;34m.\u001b[0m\u001b[0mtimer\u001b[0m\u001b[0;34m)\u001b[0m\u001b[0;34m\u001b[0m\u001b[0;34m\u001b[0m\u001b[0m\n\u001b[0m\u001b[1;32m    140\u001b[0m         \u001b[0;32mfinally\u001b[0m\u001b[0;34m:\u001b[0m\u001b[0;34m\u001b[0m\u001b[0;34m\u001b[0m\u001b[0m\n\u001b[1;32m    141\u001b[0m             \u001b[0;32mif\u001b[0m \u001b[0mgcold\u001b[0m\u001b[0;34m:\u001b[0m\u001b[0;34m\u001b[0m\u001b[0;34m\u001b[0m\u001b[0m\n",
            "\u001b[0;32m<magic-timeit>\u001b[0m in \u001b[0;36minner\u001b[0;34m(_it, _timer)\u001b[0m\n",
            "\u001b[0;31mNameError\u001b[0m: name 'A' is not defined"
          ]
        }
      ],
      "source": [
        "\n",
        "run_numpy = []\n",
        "run_py = []\n",
        "\n",
        "N_values = [10, 20, 30, 40, 50, 100]\n",
        "\n",
        "# YOUR CODE HERE\n",
        "raise NotImplementedError()"
      ]
    },
    {
      "cell_type": "code",
      "execution_count": null,
      "id": "f7afb4e5",
      "metadata": {
        "deletable": false,
        "editable": false,
        "nbgrader": {
          "grade": true,
          "grade_id": "cell-10b3887c948c65d9",
          "locked": true,
          "points": 0,
          "schema_version": 3,
          "solution": false,
          "task": false
        },
        "id": "f7afb4e5"
      },
      "outputs": [],
      "source": [
        "assert len(run_numpy)>0\n",
        "assert len(run_numpy)==len(run_py)"
      ]
    },
    {
      "cell_type": "markdown",
      "id": "e516e578",
      "metadata": {
        "id": "e516e578"
      },
      "source": [
        "Verwenden Sie *Matplotlib*, um beiden Messreihen in einen Graphen zu plotten."
      ]
    },
    {
      "cell_type": "code",
      "execution_count": null,
      "id": "f8b75e04",
      "metadata": {
        "deletable": false,
        "nbgrader": {
          "grade": false,
          "grade_id": "cell-2ea5d945d0df26ee",
          "locked": false,
          "schema_version": 3,
          "solution": true,
          "task": false
        },
        "id": "f8b75e04"
      },
      "outputs": [],
      "source": [
        "import matplotlib.pyplot as plt\n",
        "\n",
        "# YOUR CODE HERE\n",
        "raise NotImplementedError()"
      ]
    },
    {
      "cell_type": "code",
      "execution_count": null,
      "id": "6ad02cd9",
      "metadata": {
        "deletable": false,
        "editable": false,
        "nbgrader": {
          "grade": true,
          "grade_id": "cell-8e09e028df381fa6",
          "locked": true,
          "points": 0,
          "schema_version": 3,
          "solution": false,
          "task": false
        },
        "id": "6ad02cd9"
      },
      "outputs": [],
      "source": [
        "assert 'plt.' in _i"
      ]
    }
  ],
  "metadata": {
    "kernelspec": {
      "display_name": "Python 3",
      "language": "python",
      "name": "python3"
    },
    "language_info": {
      "codemirror_mode": {
        "name": "ipython",
        "version": 3
      },
      "file_extension": ".py",
      "mimetype": "text/x-python",
      "name": "python",
      "nbconvert_exporter": "python",
      "pygments_lexer": "ipython3",
      "version": "3.8.5"
    },
    "colab": {
      "name": "MatrixMultiply.ipynb",
      "provenance": []
    }
  },
  "nbformat": 4,
  "nbformat_minor": 5
}